{
  "nbformat": 4,
  "nbformat_minor": 0,
  "metadata": {
    "colab": {
      "provenance": []
    },
    "kernelspec": {
      "name": "python3",
      "display_name": "Python 3"
    },
    "language_info": {
      "name": "python"
    }
  },
  "cells": [
    {
      "cell_type": "code",
      "execution_count": 2,
      "metadata": {
        "colab": {
          "base_uri": "https://localhost:8080/"
        },
        "id": "8d4YrM7YNh02",
        "outputId": "14b8edaf-cecf-45b9-9a09-8be7dcc07110"
      },
      "outputs": [
        {
          "output_type": "stream",
          "name": "stdout",
          "text": [
            "   Age  Gender  Protein1  Protein2  Protein3  Protein4 Tumour_Stage  \\\n",
            "0   42  FEMALE   0.95256   2.15000  0.007972 -0.048340           II   \n",
            "1   54  FEMALE   0.00000   1.38020 -0.498030 -0.507320           II   \n",
            "2   63  FEMALE  -0.52303   1.76400 -0.370190  0.010815           II   \n",
            "3   78  FEMALE  -0.87618   0.12943 -0.370380  0.132190            I   \n",
            "4   42  FEMALE   0.22611   1.74910 -0.543970 -0.390210           II   \n",
            "\n",
            "                       Histology ER status PR status HER2 status Surgery_type  \\\n",
            "0  Infiltrating Ductal Carcinoma  Positive  Positive    Negative        Other   \n",
            "1  Infiltrating Ductal Carcinoma  Positive  Positive    Negative        Other   \n",
            "2  Infiltrating Ductal Carcinoma  Positive  Positive    Negative   Lumpectomy   \n",
            "3  Infiltrating Ductal Carcinoma  Positive  Positive    Negative        Other   \n",
            "4  Infiltrating Ductal Carcinoma  Positive  Positive    Positive   Lumpectomy   \n",
            "\n",
            "  Date_of_Surgery Date_of_Last_Visit Patient_Status  \n",
            "0       20-May-18          26-Aug-18          Alive  \n",
            "1       26-Apr-18          25-Jan-19           Dead  \n",
            "2       24-Aug-18          08-Apr-20          Alive  \n",
            "3       16-Nov-18          28-Jul-20          Alive  \n",
            "4       12-Dec-18          05-Jan-19          Alive  \n",
            "Features:\n",
            "    Age  Gender  Protein1  Protein2  Protein3  Protein4 Tumour_Stage  \\\n",
            "0   42  FEMALE   0.95256   2.15000  0.007972 -0.048340           II   \n",
            "1   54  FEMALE   0.00000   1.38020 -0.498030 -0.507320           II   \n",
            "2   63  FEMALE  -0.52303   1.76400 -0.370190  0.010815           II   \n",
            "3   78  FEMALE  -0.87618   0.12943 -0.370380  0.132190            I   \n",
            "4   42  FEMALE   0.22611   1.74910 -0.543970 -0.390210           II   \n",
            "\n",
            "                       Histology ER status PR status HER2 status Surgery_type  \\\n",
            "0  Infiltrating Ductal Carcinoma  Positive  Positive    Negative        Other   \n",
            "1  Infiltrating Ductal Carcinoma  Positive  Positive    Negative        Other   \n",
            "2  Infiltrating Ductal Carcinoma  Positive  Positive    Negative   Lumpectomy   \n",
            "3  Infiltrating Ductal Carcinoma  Positive  Positive    Negative        Other   \n",
            "4  Infiltrating Ductal Carcinoma  Positive  Positive    Positive   Lumpectomy   \n",
            "\n",
            "  Date_of_Surgery Date_of_Last_Visit  \n",
            "0       20-May-18          26-Aug-18  \n",
            "1       26-Apr-18          25-Jan-19  \n",
            "2       24-Aug-18          08-Apr-20  \n",
            "3       16-Nov-18          28-Jul-20  \n",
            "4       12-Dec-18          05-Jan-19  \n",
            "\n",
            "Target variable:\n",
            " 0    Alive\n",
            "1     Dead\n",
            "2    Alive\n",
            "3    Alive\n",
            "4    Alive\n",
            "Name: Patient_Status, dtype: object\n"
          ]
        }
      ],
      "source": [
        "import pandas as pd\n",
        "\n",
        "# Read the data with pandas\n",
        "data = pd.read_csv(\"/content/breast_cancer_survival.csv\")\n",
        "\n",
        "# Displaying first few rows of the dataset to understand its structure\n",
        "print(data.head())\n",
        "\n",
        "# Identifying features and target variable\n",
        "features = data.drop('Patient_Status', axis=1)\n",
        "target = data['Patient_Status']\n",
        "\n",
        "# Displaying features and target variable\n",
        "print(\"Features:\\n\", features.head())\n",
        "print(\"\\nTarget variable:\\n\", target.head())\n"
      ]
    },
    {
      "cell_type": "code",
      "source": [
        "import pandas as pd\n",
        "df = pd.read_csv('/content/breast_cancer_survival.csv')\n",
        "print(\"Column names:\")\n",
        "print(df.columns)\n",
        "target_variable = 'Age'\n",
        "print(\"Target variable:\", target_variable)"
      ],
      "metadata": {
        "colab": {
          "base_uri": "https://localhost:8080/"
        },
        "id": "AbRWhxZjiJUC",
        "outputId": "c5db81f1-2304-4625-e715-2bab0d9cf71b"
      },
      "execution_count": 9,
      "outputs": [
        {
          "output_type": "stream",
          "name": "stdout",
          "text": [
            "Column names:\n",
            "Index(['Age', 'Gender', 'Protein1', 'Protein2', 'Protein3', 'Protein4',\n",
            "       'Tumour_Stage', 'Histology', 'ER status', 'PR status', 'HER2 status',\n",
            "       'Surgery_type', 'Date_of_Surgery', 'Date_of_Last_Visit',\n",
            "       'Patient_Status'],\n",
            "      dtype='object')\n",
            "Target variable: Age\n"
          ]
        }
      ]
    },
    {
      "cell_type": "code",
      "source": [
        "import pandas as pd\n",
        "import numpy as np\n",
        "import matplotlib.pyplot as plt\n",
        "from sklearn.model_selection import train_test_split\n",
        "from sklearn.preprocessing import StandardScaler, OneHotEncoder\n",
        "from sklearn.compose import ColumnTransformer\n",
        "from sklearn.neighbors import KNeighborsClassifier\n",
        "from sklearn.metrics import accuracy_score\n",
        "\n",
        "# Read the data\n",
        "data = pd.read_csv(\"/content/breast_cancer_survival.csv\")\n",
        "\n",
        "# Drop date columns\n",
        "data = data.drop(['Date_of_Surgery', 'Date_of_Last_Visit'], axis=1)\n",
        "\n",
        "# Drop rows with missing values\n",
        "data.dropna(inplace=True)\n",
        "\n",
        "# Identify features and target variable\n",
        "X = data.drop('Patient_Status', axis=1)\n",
        "y = data['Patient_Status']\n",
        "\n",
        "# Split the data into train and test sets\n",
        "X_train, X_test, y_train, y_test = train_test_split(X, y, test_size=0.2, random_state=42)\n",
        "\n",
        "# Define column transformer for encoding categorical variables\n",
        "ct = ColumnTransformer(transformers=[('encoder', OneHotEncoder(), ['Gender', 'Tumour_Stage', 'Histology',\n",
        "                                                                  'ER status', 'PR status', 'HER2 status',\n",
        "                                                                  'Surgery_type'])],\n",
        "                       remainder='passthrough')\n",
        "\n",
        "# Apply column transformer\n",
        "X_train_encoded = ct.fit_transform(X_train)\n",
        "X_test_encoded = ct.transform(X_test)\n",
        "\n",
        "# Standardize the features\n",
        "scaler = StandardScaler()\n",
        "X_train_scaled = scaler.fit_transform(X_train_encoded)\n",
        "X_test_scaled = scaler.transform(X_test_encoded)\n",
        "\n",
        "# Find accuracy for different K values [2-20]\n",
        "accuracy_scores = []\n",
        "for k in range(2, 21):\n",
        "    knn = KNeighborsClassifier(n_neighbors=k)\n",
        "    knn.fit(X_train_scaled, y_train)\n",
        "    y_pred = knn.predict(X_test_scaled)\n",
        "    accuracy = accuracy_score(y_test, y_pred)\n",
        "    accuracy_scores.append(accuracy)\n",
        "    print(\"K =\", k, \"Accuracy:\", accuracy)\n",
        "\n",
        "# Plot the graph\n",
        "plt.plot(range(2, 21), accuracy_scores, marker='o')\n",
        "plt.title('Accuracy vs K Value')\n",
        "plt.xlabel('K Value')\n",
        "plt.ylabel('Accuracy')\n",
        "plt.grid(True)\n",
        "plt.show()\n"
      ],
      "metadata": {
        "colab": {
          "base_uri": "https://localhost:8080/",
          "height": 802
        },
        "id": "31kheeCUSHpE",
        "outputId": "72231521-39f5-4b6e-b4bf-d0f15059f533"
      },
      "execution_count": 6,
      "outputs": [
        {
          "output_type": "stream",
          "name": "stdout",
          "text": [
            "K = 2 Accuracy: 0.7384615384615385\n",
            "K = 3 Accuracy: 0.7076923076923077\n",
            "K = 4 Accuracy: 0.7692307692307693\n",
            "K = 5 Accuracy: 0.7538461538461538\n",
            "K = 6 Accuracy: 0.7692307692307693\n",
            "K = 7 Accuracy: 0.7384615384615385\n",
            "K = 8 Accuracy: 0.7692307692307693\n",
            "K = 9 Accuracy: 0.7692307692307693\n",
            "K = 10 Accuracy: 0.7692307692307693\n",
            "K = 11 Accuracy: 0.7692307692307693\n",
            "K = 12 Accuracy: 0.7692307692307693\n",
            "K = 13 Accuracy: 0.7692307692307693\n",
            "K = 14 Accuracy: 0.7692307692307693\n",
            "K = 15 Accuracy: 0.7692307692307693\n",
            "K = 16 Accuracy: 0.7692307692307693\n",
            "K = 17 Accuracy: 0.7692307692307693\n",
            "K = 18 Accuracy: 0.7692307692307693\n",
            "K = 19 Accuracy: 0.7692307692307693\n",
            "K = 20 Accuracy: 0.7692307692307693\n"
          ]
        },
        {
          "output_type": "display_data",
          "data": {
            "text/plain": [
              "<Figure size 640x480 with 1 Axes>"
            ],
            "image/png": "[encoded data removed]"
          },
          "metadata": {}
        }
      ]
    },
    {
      "cell_type": "code",
      "source": [
        "import pandas as pd\n",
        "from sklearn.model_selection import train_test_split\n",
        "from sklearn.tree import DecisionTreeClassifier\n",
        "from sklearn.metrics import accuracy_score, precision_score, recall_score, f1_score\n",
        "\n",
        "# Load the dataset\n",
        "data = pd.read_csv(\"/content/breast_cancer_survival.csv\")  # Replace \"your_dataset.csv\" with the actual path to your dataset file\n",
        "\n",
        "# Drop rows with NaN values\n",
        "data = data.dropna()\n",
        "\n",
        "# Extract features and target variable\n",
        "X = data[['Age', 'Gender', 'Protein1', 'Protein2', 'Protein3', 'Protein4', 'Tumour_Stage']]\n",
        "y = data['Patient_Status']\n",
        "\n",
        "# Convert categorical variables to one-hot encoding\n",
        "X_encoded = pd.get_dummies(X)\n",
        "\n",
        "# Split the data into training and testing sets\n",
        "X_train, X_test, y_train, y_test = train_test_split(X_encoded, y, test_size=0.2, random_state=42)\n",
        "\n",
        "# Train Decision Tree classifier\n",
        "decision_tree = DecisionTreeClassifier()\n",
        "decision_tree.fit(X_train, y_train)\n",
        "\n",
        "# Predict on the test set\n",
        "y_pred = decision_tree.predict(X_test)\n",
        "\n",
        "# Calculate performance metrics\n",
        "accuracy = accuracy_score(y_test, y_pred)\n",
        "precision = precision_score(y_test, y_pred, average='weighted')\n",
        "recall = recall_score(y_test, y_pred, average='weighted')\n",
        "f1 = f1_score(y_test, y_pred, average='weighted')\n",
        "\n",
        "# Print the metrics\n",
        "print(\"Decision Tree Classifier:\")\n",
        "print(\"Accuracy:\", accuracy)\n",
        "print(\"Precision:\", precision)\n",
        "print(\"Recall:\", recall)\n",
        "print(\"F1 Score:\", f1)"
      ],
      "metadata": {
        "colab": {
          "base_uri": "https://localhost:8080/"
        },
        "id": "0-N4zJaFdG62",
        "outputId": "c190ed0f-85b8-4999-d01d-1174281f8b40"
      },
      "execution_count": 8,
      "outputs": [
        {
          "output_type": "stream",
          "name": "stdout",
          "text": [
            "Decision Tree Classifier:\n",
            "Accuracy: 0.65625\n",
            "Precision: 0.6748724489795919\n",
            "Recall: 0.65625\n",
            "F1 Score: 0.6650892857142856\n"
          ]
        }
      ]
    }
  ]
}